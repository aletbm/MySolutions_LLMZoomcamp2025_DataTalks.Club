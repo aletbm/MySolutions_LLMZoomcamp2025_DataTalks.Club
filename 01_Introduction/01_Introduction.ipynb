{
 "cells": [
  {
   "cell_type": "markdown",
   "id": "42997192",
   "metadata": {},
   "source": [
    "## Homework: Introduction\n",
    "\n",
    "In this homework, we'll learn more about search and use Elastic Search for practice. \n",
    "\n",
    "> It's possible that your answers won't match exactly. If it's the case, select the closest one.\n",
    "\n",
    "## Q1. Running Elastic \n",
    "\n",
    "Run Elastic Search 8.17.6, and get the cluster information. If you run it on localhost, this is how you do it:\n",
    "\n",
    "```bash\n",
    "curl localhost:9200\n",
    "```\n",
    "\n",
    "What's the `version.build_hash` value?\n",
    "\n",
    "### Launching the Elasticsearch server locally with Docker"
   ]
  },
  {
   "cell_type": "code",
   "execution_count": 3,
   "id": "c8bc16a5",
   "metadata": {},
   "outputs": [
    {
     "name": "stdout",
     "output_type": "stream",
     "text": [
      "c1f6b0439a84f9c9b95aac4d930df0b09b4343a33ae0a8eb13192608de230785\n"
     ]
    }
   ],
   "source": [
    "#!docker pull docker.elastic.co/elasticsearch/elasticsearch:8.4.3\n",
    "#!docker run -d --name elasticsearch -p 9200:9200 -p 9300:9300 -e \"discovery.type=single-node\" -e \"xpack.security.enabled=false\" docker.elastic.co/elasticsearch/elasticsearch:8.4.3"
   ]
  },
  {
   "cell_type": "markdown",
   "id": "a553f274",
   "metadata": {},
   "source": [
    "### Testing the server"
   ]
  },
  {
   "cell_type": "code",
   "execution_count": 1,
   "id": "7f150395",
   "metadata": {},
   "outputs": [
    {
     "name": "stdout",
     "output_type": "stream",
     "text": [
      "{\n",
      "  \"name\" : \"62f024542ac4\",\n",
      "  \"cluster_name\" : \"docker-cluster\",\n",
      "  \"cluster_uuid\" : \"b-pkltLAT0mMBKAp--CG4Q\",\n",
      "  \"version\" : {\n",
      "    \"number\" : \"8.4.3\",\n",
      "    \"build_flavor\" : \"default\",\n",
      "    \"build_type\" : \"docker\",\n",
      "    \"build_hash\" : \"42f05b9372a9a4a470db3b52817899b99a76ee73\",\n",
      "    \"build_date\" : \"2022-10-04T07:17:24.662462378Z\",\n",
      "    \"build_snapshot\" : false,\n",
      "    \"lucene_version\" : \"9.3.0\",\n",
      "    \"minimum_wire_compatibility_version\" : \"7.17.0\",\n",
      "    \"minimum_index_compatibility_version\" : \"7.0.0\"\n",
      "  },\n",
      "  \"tagline\" : \"You Know, for Search\"\n",
      "}\n"
     ]
    },
    {
     "name": "stderr",
     "output_type": "stream",
     "text": [
      "  % Total    % Received % Xferd  Average Speed   Time    Time     Time  Current\n",
      "                                 Dload  Upload   Total   Spent    Left  Speed\n",
      "\n",
      "  0     0    0     0    0     0      0      0 --:--:-- --:--:-- --:--:--     0\n",
      "100   539  100   539    0     0  64067      0 --:--:-- --:--:-- --:--:-- 67375\n"
     ]
    }
   ],
   "source": [
    "!curl localhost:9200"
   ]
  },
  {
   "cell_type": "markdown",
   "id": "5a5e4d09",
   "metadata": {},
   "source": [
    "## Getting the data\n",
    "\n",
    "Now let's get the FAQ data. You can run this snippet:"
   ]
  },
  {
   "cell_type": "code",
   "execution_count": 2,
   "id": "37c5235d",
   "metadata": {},
   "outputs": [
    {
     "name": "stderr",
     "output_type": "stream",
     "text": [
      "\n",
      "[notice] A new release of pip available: 22.3.1 -> 25.1.1\n",
      "[notice] To update, run: python.exe -m pip install --upgrade pip\n"
     ]
    }
   ],
   "source": [
    "!pip install requests -q"
   ]
  },
  {
   "cell_type": "code",
   "execution_count": 2,
   "id": "ee8576d0",
   "metadata": {},
   "outputs": [
    {
     "data": {
      "text/html": [
       "<pre style=\"white-space:pre;overflow-x:auto;line-height:normal;font-family:Menlo,'DejaVu Sans Mono',consolas,'Courier New',monospace\"><span style=\"font-weight: bold\">{</span>\n",
       "    <span style=\"color: #008000; text-decoration-color: #008000\">'text'</span>: <span style=\"color: #008000; text-decoration-color: #008000\">\"The purpose of this document is to capture frequently asked technical questions\\nThe exact day and </span>\n",
       "<span style=\"color: #008000; text-decoration-color: #008000\">hour of the course will be 15th Jan 2024 at 17h00. The course will start with the first  “Office Hours'' </span>\n",
       "<span style=\"color: #008000; text-decoration-color: #008000\">live.1\\nSubscribe to course public Google Calendar (it works from Desktop only).\\nRegister before the course starts</span>\n",
       "<span style=\"color: #008000; text-decoration-color: #008000\">using this link.\\nJoin the course Telegram channel with announcements.\\nDon’t forget to register in </span>\n",
       "<span style=\"color: #008000; text-decoration-color: #008000\">DataTalks.Club's Slack and join the channel.\"</span>,\n",
       "    <span style=\"color: #008000; text-decoration-color: #008000\">'section'</span>: <span style=\"color: #008000; text-decoration-color: #008000\">'General course-related questions'</span>,\n",
       "    <span style=\"color: #008000; text-decoration-color: #008000\">'question'</span>: <span style=\"color: #008000; text-decoration-color: #008000\">'Course - When will the course start?'</span>,\n",
       "    <span style=\"color: #008000; text-decoration-color: #008000\">'course'</span>: <span style=\"color: #008000; text-decoration-color: #008000\">'data-engineering-zoomcamp'</span>\n",
       "<span style=\"font-weight: bold\">}</span>\n",
       "</pre>\n"
      ],
      "text/plain": [
       "\u001b[1m{\u001b[0m\n",
       "    \u001b[32m'text'\u001b[0m: \u001b[32m\"The purpose of this document is to capture frequently asked technical questions\\nThe exact day and \u001b[0m\n",
       "\u001b[32mhour of the course will be 15th Jan 2024 at 17h00. The course will start with the first  “Office Hours'' \u001b[0m\n",
       "\u001b[32mlive.1\\nSubscribe to course public Google Calendar \u001b[0m\u001b[32m(\u001b[0m\u001b[32mit works from Desktop only\u001b[0m\u001b[32m)\u001b[0m\u001b[32m.\\nRegister before the course starts\u001b[0m\n",
       "\u001b[32musing this link.\\nJoin the course Telegram channel with announcements.\\nDon’t forget to register in \u001b[0m\n",
       "\u001b[32mDataTalks.Club's Slack and join the channel.\"\u001b[0m,\n",
       "    \u001b[32m'section'\u001b[0m: \u001b[32m'General course-related questions'\u001b[0m,\n",
       "    \u001b[32m'question'\u001b[0m: \u001b[32m'Course - When will the course start?'\u001b[0m,\n",
       "    \u001b[32m'course'\u001b[0m: \u001b[32m'data-engineering-zoomcamp'\u001b[0m\n",
       "\u001b[1m}\u001b[0m\n"
      ]
     },
     "metadata": {},
     "output_type": "display_data"
    }
   ],
   "source": [
    "import requests \n",
    "from rich import print as prrint\n",
    "\n",
    "docs_url = 'https://github.com/DataTalksClub/llm-zoomcamp/blob/main/01-intro/documents.json?raw=1'\n",
    "docs_response = requests.get(docs_url)\n",
    "documents_raw = docs_response.json()\n",
    "\n",
    "documents = []\n",
    "\n",
    "for course in documents_raw:\n",
    "    course_name = course['course']\n",
    "\n",
    "    for doc in course['documents']:\n",
    "        doc['course'] = course_name\n",
    "        documents.append(doc)\n",
    "\n",
    "prrint(documents[0])"
   ]
  },
  {
   "cell_type": "markdown",
   "id": "9fbe8a2f",
   "metadata": {},
   "source": [
    "Note that you need to have the `requests` library:\n",
    "\n",
    "```bash\n",
    "pip install requests\n",
    "```"
   ]
  },
  {
   "cell_type": "markdown",
   "id": "4c6f1fc7",
   "metadata": {},
   "source": [
    "## Q2. Indexing the data\n",
    "\n",
    "Index the data in the same way as was shown in the course videos. Make the `course` field a keyword and the rest should be text. \n",
    "\n",
    "Don't forget to install the ElasticSearch client for Python:\n"
   ]
  },
  {
   "cell_type": "code",
   "execution_count": 4,
   "id": "89f1e57d",
   "metadata": {},
   "outputs": [
    {
     "name": "stderr",
     "output_type": "stream",
     "text": [
      "\n",
      "[notice] A new release of pip available: 22.3.1 -> 25.1.1\n",
      "[notice] To update, run: python.exe -m pip install --upgrade pip\n"
     ]
    }
   ],
   "source": [
    "!pip install elasticsearch==8.4.1 elastic-transport==8.4.1 -q"
   ]
  },
  {
   "cell_type": "markdown",
   "id": "7c5aa098",
   "metadata": {},
   "source": [
    "Which function do you use for adding your data to elastic?\n",
    "\n",
    "* `insert`\n",
    "* `index`\n",
    "* `put`\n",
    "* `add`"
   ]
  },
  {
   "cell_type": "code",
   "execution_count": 3,
   "id": "c83000df",
   "metadata": {},
   "outputs": [
    {
     "data": {
      "text/html": [
       "<pre style=\"white-space:pre;overflow-x:auto;line-height:normal;font-family:Menlo,'DejaVu Sans Mono',consolas,'Courier New',monospace\"><span style=\"font-weight: bold\">{</span><span style=\"color: #008000; text-decoration-color: #008000\">'name'</span>: <span style=\"color: #008000; text-decoration-color: #008000\">'62f024542ac4'</span>, <span style=\"color: #008000; text-decoration-color: #008000\">'cluster_name'</span>: <span style=\"color: #008000; text-decoration-color: #008000\">'docker-cluster'</span>, <span style=\"color: #008000; text-decoration-color: #008000\">'cluster_uuid'</span>: <span style=\"color: #008000; text-decoration-color: #008000\">'b-pkltLAT0mMBKAp--CG4Q'</span>, <span style=\"color: #008000; text-decoration-color: #008000\">'version'</span>: \n",
       "<span style=\"font-weight: bold\">{</span><span style=\"color: #008000; text-decoration-color: #008000\">'number'</span>: <span style=\"color: #008000; text-decoration-color: #008000\">'8.4.3'</span>, <span style=\"color: #008000; text-decoration-color: #008000\">'build_flavor'</span>: <span style=\"color: #008000; text-decoration-color: #008000\">'default'</span>, <span style=\"color: #008000; text-decoration-color: #008000\">'build_type'</span>: <span style=\"color: #008000; text-decoration-color: #008000\">'docker'</span>, <span style=\"color: #008000; text-decoration-color: #008000\">'build_hash'</span>: \n",
       "<span style=\"color: #008000; text-decoration-color: #008000\">'42f05b9372a9a4a470db3b52817899b99a76ee73'</span>, <span style=\"color: #008000; text-decoration-color: #008000\">'build_date'</span>: <span style=\"color: #008000; text-decoration-color: #008000\">'2022-10-04T07:17:24.662462378Z'</span>, <span style=\"color: #008000; text-decoration-color: #008000\">'build_snapshot'</span>: \n",
       "<span style=\"color: #ff0000; text-decoration-color: #ff0000; font-style: italic\">False</span>, <span style=\"color: #008000; text-decoration-color: #008000\">'lucene_version'</span>: <span style=\"color: #008000; text-decoration-color: #008000\">'9.3.0'</span>, <span style=\"color: #008000; text-decoration-color: #008000\">'minimum_wire_compatibility_version'</span>: <span style=\"color: #008000; text-decoration-color: #008000\">'7.17.0'</span>, \n",
       "<span style=\"color: #008000; text-decoration-color: #008000\">'minimum_index_compatibility_version'</span>: <span style=\"color: #008000; text-decoration-color: #008000\">'7.0.0'</span><span style=\"font-weight: bold\">}</span>, <span style=\"color: #008000; text-decoration-color: #008000\">'tagline'</span>: <span style=\"color: #008000; text-decoration-color: #008000\">'You Know, for Search'</span><span style=\"font-weight: bold\">}</span>\n",
       "</pre>\n"
      ],
      "text/plain": [
       "\u001b[1m{\u001b[0m\u001b[32m'name'\u001b[0m: \u001b[32m'62f024542ac4'\u001b[0m, \u001b[32m'cluster_name'\u001b[0m: \u001b[32m'docker-cluster'\u001b[0m, \u001b[32m'cluster_uuid'\u001b[0m: \u001b[32m'b-pkltLAT0mMBKAp--CG4Q'\u001b[0m, \u001b[32m'version'\u001b[0m: \n",
       "\u001b[1m{\u001b[0m\u001b[32m'number'\u001b[0m: \u001b[32m'8.4.3'\u001b[0m, \u001b[32m'build_flavor'\u001b[0m: \u001b[32m'default'\u001b[0m, \u001b[32m'build_type'\u001b[0m: \u001b[32m'docker'\u001b[0m, \u001b[32m'build_hash'\u001b[0m: \n",
       "\u001b[32m'42f05b9372a9a4a470db3b52817899b99a76ee73'\u001b[0m, \u001b[32m'build_date'\u001b[0m: \u001b[32m'2022-10-04T07:17:24.662462378Z'\u001b[0m, \u001b[32m'build_snapshot'\u001b[0m: \n",
       "\u001b[3;91mFalse\u001b[0m, \u001b[32m'lucene_version'\u001b[0m: \u001b[32m'9.3.0'\u001b[0m, \u001b[32m'minimum_wire_compatibility_version'\u001b[0m: \u001b[32m'7.17.0'\u001b[0m, \n",
       "\u001b[32m'minimum_index_compatibility_version'\u001b[0m: \u001b[32m'7.0.0'\u001b[0m\u001b[1m}\u001b[0m, \u001b[32m'tagline'\u001b[0m: \u001b[32m'You Know, for Search'\u001b[0m\u001b[1m}\u001b[0m\n"
      ]
     },
     "metadata": {},
     "output_type": "display_data"
    }
   ],
   "source": [
    "from elasticsearch import Elasticsearch\n",
    "\n",
    "es_client = Elasticsearch(\"http://localhost:9200\")\n",
    "info = es_client.info()\n",
    "prrint(info)"
   ]
  },
  {
   "cell_type": "code",
   "execution_count": 4,
   "id": "0dffcb24",
   "metadata": {},
   "outputs": [
    {
     "name": "stderr",
     "output_type": "stream",
     "text": [
      "C:\\Users\\Alexander\\AppData\\Local\\Temp\\ipykernel_21100\\2938790325.py:18: DeprecationWarning: The 'body' parameter is deprecated and will be removed in a future version. Instead use individual parameters.\n",
      "  es_client.indices.create(index=index_name, body=index_settings)\n"
     ]
    },
    {
     "data": {
      "text/plain": [
       "ObjectApiResponse({'acknowledged': True, 'shards_acknowledged': True, 'index': 'course-questions'})"
      ]
     },
     "execution_count": 4,
     "metadata": {},
     "output_type": "execute_result"
    }
   ],
   "source": [
    "index_settings = {\n",
    "    \"settings\":{\n",
    "        \"number_of_shards\": 1,\n",
    "        \"number_of_replicas\":0\n",
    "    },\n",
    "    \"mappings\": {\n",
    "        \"properties\": {\n",
    "            \"text\": {\"type\": \"text\"},\n",
    "            \"section\": {\"type\": \"text\"},\n",
    "            \"question\": {\"type\": \"text\"},\n",
    "            \"course\": {\"type\": \"keyword\"}\n",
    "        }\n",
    "    }\n",
    "}\n",
    "\n",
    "index_name = \"course-questions\"\n",
    "\n",
    "es_client.indices.create(index=index_name, body=index_settings)"
   ]
  },
  {
   "cell_type": "code",
   "execution_count": 5,
   "id": "757cd164",
   "metadata": {},
   "outputs": [
    {
     "name": "stderr",
     "output_type": "stream",
     "text": [
      "d:\\Program Files\\Python310\\enviroments\\llmenvs\\lib\\site-packages\\tqdm\\auto.py:21: TqdmWarning: IProgress not found. Please update jupyter and ipywidgets. See https://ipywidgets.readthedocs.io/en/stable/user_install.html\n",
      "  from .autonotebook import tqdm as notebook_tqdm\n",
      "100%|██████████| 948/948 [02:10<00:00,  7.29it/s]\n"
     ]
    }
   ],
   "source": [
    "from tqdm.auto import tqdm\n",
    "\n",
    "for document in tqdm(documents):\n",
    "    es_client.index(index=index_name, document=document)"
   ]
  },
  {
   "cell_type": "markdown",
   "id": "4fee269c",
   "metadata": {},
   "source": [
    "## Q3. Searching\n",
    "\n",
    "Now let's search in our index. \n",
    "\n",
    "We will execute a query `\"How do execute a command on a Kubernetes pod?\"`. \n",
    "\n",
    "Use only `question` and `text` fields and give `question` a boost of 4, and use `\"type\": \"best_fields\"`.\n",
    "\n",
    "What's the score for the top ranking result?\n",
    "\n",
    "* 84.50\n",
    "* 64.50\n",
    "* 44.50\n",
    "* 24.50\n",
    "\n",
    "Look at the `_score` field."
   ]
  },
  {
   "cell_type": "code",
   "execution_count": 6,
   "id": "e9703077",
   "metadata": {},
   "outputs": [
    {
     "name": "stderr",
     "output_type": "stream",
     "text": [
      "C:\\Users\\Alexander\\AppData\\Local\\Temp\\ipykernel_21100\\925483546.py:18: DeprecationWarning: The 'body' parameter is deprecated and will be removed in a future version. Instead use individual parameters.\n",
      "  response = es_client.search(index=index_name, body=search_query)\n"
     ]
    },
    {
     "name": "stdout",
     "output_type": "stream",
     "text": [
      "44.50556\n",
      "35.433445\n",
      "33.70974\n",
      "33.2635\n",
      "32.589073\n"
     ]
    }
   ],
   "source": [
    "query = \"How do execute a command on a Kubernetes pod?\"\n",
    "\n",
    "search_query = {\n",
    "    \"size\": 5,\n",
    "    \"query\": {\n",
    "        \"bool\": {\n",
    "            \"must\": {\n",
    "                \"multi_match\": {\n",
    "                    \"query\": query,\n",
    "                    \"fields\": [\"question^4\", \"text\"],\n",
    "                    \"type\": \"best_fields\"\n",
    "                }\n",
    "            },\n",
    "        }\n",
    "    }\n",
    "}\n",
    "\n",
    "response = es_client.search(index=index_name, body=search_query)\n",
    "\n",
    "for hit in response[\"hits\"][\"hits\"]:\n",
    "    print(hit[\"_score\"])"
   ]
  },
  {
   "cell_type": "markdown",
   "id": "0d35643b",
   "metadata": {},
   "source": [
    "## Q4. Filtering\n",
    "\n",
    "Now ask a different question: `\"How do copy a file to a Docker container?\"`.\n",
    "\n",
    "This time we are only interested in questions from `machine-learning-zoomcamp`.\n",
    "\n",
    "Return 3 results. What's the 3rd question returned by the search engine?\n",
    "\n",
    "* How do I debug a docker container?\n",
    "* How do I copy files from a different folder into docker container’s working directory?\n",
    "* How do Lambda container images work?\n",
    "* How can I annotate a graph?"
   ]
  },
  {
   "cell_type": "code",
   "execution_count": 7,
   "id": "1e375d38",
   "metadata": {},
   "outputs": [
    {
     "name": "stdout",
     "output_type": "stream",
     "text": [
      "1. How do I debug a docker container?\n",
      "2. How do I copy files from my local machine to docker container?\n",
      "3. How do I copy files from a different folder into docker container’s working directory?\n"
     ]
    },
    {
     "name": "stderr",
     "output_type": "stream",
     "text": [
      "C:\\Users\\Alexander\\AppData\\Local\\Temp\\ipykernel_21100\\2407438344.py:23: DeprecationWarning: The 'body' parameter is deprecated and will be removed in a future version. Instead use individual parameters.\n",
      "  response = es_client.search(index=index_name, body=search_query)\n"
     ]
    }
   ],
   "source": [
    "query = \"How do copy a file to a Docker container?\"\n",
    "\n",
    "search_query = {\n",
    "    \"size\": 3,\n",
    "    \"query\": {\n",
    "        \"bool\": {\n",
    "            \"must\": {\n",
    "                \"multi_match\": {\n",
    "                    \"query\": query,\n",
    "                    \"fields\": [\"question^4\", \"text\"],\n",
    "                    \"type\": \"best_fields\"\n",
    "                }\n",
    "            },\n",
    "            \"filter\": {\n",
    "                \"term\": {\n",
    "                    \"course\": \"machine-learning-zoomcamp\"\n",
    "                }\n",
    "            }\n",
    "        }\n",
    "    }\n",
    "}\n",
    "\n",
    "response = es_client.search(index=index_name, body=search_query)\n",
    "for i, hit in enumerate(response[\"hits\"][\"hits\"]):\n",
    "    print(f\"{i+1}.\", hit['_source']['question'])"
   ]
  },
  {
   "cell_type": "markdown",
   "id": "f26a8049",
   "metadata": {},
   "source": [
    "## Q5. Building a prompt\n",
    "\n",
    "Now we're ready to build a prompt to send to an LLM. \n",
    "\n",
    "Take the records returned from Elasticsearch in Q4 and use this template to build the context. Separate context entries by two linebreaks (`\\n\\n`)\n",
    "\n",
    "```python\n",
    "context_template = \"\"\"\n",
    "Q: {question}\n",
    "A: {text}\n",
    "\"\"\".strip()\n",
    "```\n",
    "\n",
    "Now use the context you just created along with the `\"How do copy a file to a Docker container?\"` question \n",
    "to construct a prompt using the template below:\n",
    "\n",
    "```\n",
    "prompt_template = \"\"\"\n",
    "You're a course teaching assistant. Answer the QUESTION based on the CONTEXT from the FAQ database.\n",
    "Use only the facts from the CONTEXT when answering the QUESTION.\n",
    "\n",
    "QUESTION: {question}\n",
    "\n",
    "CONTEXT:\n",
    "{context}\n",
    "\"\"\".strip()\n",
    "```\n",
    "\n",
    "What's the length of the resulting prompt? (use the `len` function)\n",
    "\n",
    "* 946\n",
    "* 1446\n",
    "* 1946\n",
    "* 2446"
   ]
  },
  {
   "cell_type": "code",
   "execution_count": 8,
   "id": "5476434b",
   "metadata": {},
   "outputs": [
    {
     "data": {
      "text/plain": [
       "1491"
      ]
     },
     "execution_count": 8,
     "metadata": {},
     "output_type": "execute_result"
    }
   ],
   "source": [
    "context_template = \"\"\"\n",
    "Q: {question}\n",
    "A: {text}\n",
    "\"\"\".strip()\n",
    "\n",
    "contexts = []\n",
    "\n",
    "for i, hit in enumerate(response[\"hits\"][\"hits\"]):\n",
    "    question = hit['_source']['question']\n",
    "    text = hit['_source']['text']\n",
    "    entry = context_template.format(question=question, text=text)\n",
    "    contexts.append(entry)\n",
    "\n",
    "context = \"\\n\\n\".join(contexts)\n",
    "\n",
    "query = \"How do copy a file to a Docker container?\"\n",
    "\n",
    "prompt_template = f\"\"\"\n",
    "You're a course teaching assistant. Answer the QUESTION based on the CONTEXT from the FAQ database.\n",
    "Use only the facts from the CONTEXT when answering the QUESTION.\n",
    "\n",
    "QUESTION: {question}\n",
    "\n",
    "CONTEXT:\n",
    "{context}\n",
    "\"\"\".strip()\n",
    "\n",
    "len(prompt_template)"
   ]
  },
  {
   "cell_type": "markdown",
   "id": "12fab019",
   "metadata": {},
   "source": [
    "## Q6. Tokens\n",
    "\n",
    "When we use the OpenAI Platform, we're charged by the number of \n",
    "tokens we send in our prompt and receive in the response.\n",
    "\n",
    "The OpenAI python package uses `tiktoken` for tokenization:\n",
    "\n",
    "```bash\n",
    "pip install tiktoken\n",
    "```\n",
    "\n",
    "Let's calculate the number of tokens in our query: \n",
    "\n",
    "```python\n",
    "encoding = tiktoken.encoding_for_model(\"gpt-4o\")\n",
    "```\n",
    "\n",
    "Use the `encode` function. How many tokens does our prompt have?\n",
    "\n",
    "* 120\n",
    "* 220\n",
    "* 320\n",
    "* 420\n",
    "\n",
    "Note: to decode back a token into a word, you can use the `decode_single_token_bytes` function:\n",
    "\n",
    "```python\n",
    "encoding.decode_single_token_bytes(63842)\n",
    "```"
   ]
  },
  {
   "cell_type": "code",
   "execution_count": 41,
   "id": "607d96a2",
   "metadata": {},
   "outputs": [
    {
     "name": "stderr",
     "output_type": "stream",
     "text": [
      "\n",
      "[notice] A new release of pip available: 22.3.1 -> 25.1.1\n",
      "[notice] To update, run: python.exe -m pip install --upgrade pip\n"
     ]
    }
   ],
   "source": [
    "!pip install tiktoken -q"
   ]
  },
  {
   "cell_type": "code",
   "execution_count": 9,
   "id": "3b6fd2af",
   "metadata": {},
   "outputs": [
    {
     "name": "stdout",
     "output_type": "stream",
     "text": [
      "Number of tokens: 326\n"
     ]
    }
   ],
   "source": [
    "import tiktoken\n",
    "\n",
    "encoding = tiktoken.encoding_for_model(\"gpt-4o\")\n",
    "tokens = encoding.encode(prompt_template)\n",
    "print(f\"Number of tokens: {len(tokens)}\")"
   ]
  },
  {
   "cell_type": "markdown",
   "id": "0ecfcd75",
   "metadata": {},
   "source": [
    "## Bonus: generating the answer (ungraded)\n",
    "\n",
    "Let's send the prompt to OpenAI. What's the response?  \n",
    "\n",
    "Note: you can replace OpenAI with Ollama. See module 2."
   ]
  },
  {
   "cell_type": "code",
   "execution_count": 46,
   "id": "75930cfd",
   "metadata": {},
   "outputs": [
    {
     "name": "stderr",
     "output_type": "stream",
     "text": [
      "\n",
      "[notice] A new release of pip available: 22.3.1 -> 25.1.1\n",
      "[notice] To update, run: python.exe -m pip install --upgrade pip\n"
     ]
    }
   ],
   "source": [
    "!pip install ollama -q"
   ]
  },
  {
   "cell_type": "code",
   "execution_count": 10,
   "id": "ab22ad42",
   "metadata": {},
   "outputs": [
    {
     "name": "stdout",
     "output_type": "stream",
     "text": [
      "Ollama is running\n"
     ]
    },
    {
     "name": "stderr",
     "output_type": "stream",
     "text": [
      "  % Total    % Received % Xferd  Average Speed   Time    Time     Time  Current\n",
      "                                 Dload  Upload   Total   Spent    Left  Speed\n",
      "\n",
      "  0     0    0     0    0     0      0      0 --:--:-- --:--:-- --:--:--     0\n",
      "100    17  100    17    0     0     81      0 --:--:-- --:--:-- --:--:--    81\n"
     ]
    }
   ],
   "source": [
    "#Bash command: ollama run llama3\n",
    "!curl http://localhost:11434"
   ]
  },
  {
   "cell_type": "code",
   "execution_count": null,
   "id": "b6e2599f",
   "metadata": {},
   "outputs": [
    {
     "name": "stdout",
     "output_type": "stream",
     "text": [
      "\u001b[1m\u001b[92mPROMPT +++++++++++++++++++++++++++++++++++++++++++++++++++++++++++++++++++++++++++++++++++++++++++++++++++++++++++++++++++++++++++++\u001b[0m\n",
      "You're a course teaching assistant. Answer the QUESTION based on the CONTEXT from the FAQ database.\n",
      "Use only the facts from the CONTEXT when answering the QUESTION.\n",
      "\n",
      "QUESTION: How do I copy files from a different folder into docker container’s working directory?\n",
      "\n",
      "CONTEXT:\n",
      "Q: How do I debug a docker container?\n",
      "A: Launch the container image in interactive mode and overriding the entrypoint, so that it starts a bash command.\n",
      "docker run -it --entrypoint bash <image>\n",
      "If the container is already running, execute a command in the specific container:\n",
      "docker ps (find the container-id)\n",
      "docker exec -it <container-id> bash\n",
      "(Marcos MJD)\n",
      "\n",
      "Q: How do I copy files from my local machine to docker container?\n",
      "A: You can copy files from your local machine into a Docker container using the docker cp command. Here's how to do it:\n",
      "To copy a file or directory from your local machine into a running Docker container, you can use the `docker cp command`. The basic syntax is as follows:\n",
      "docker cp /path/to/local/file_or_directory container_id:/path/in/container\n",
      "Hrithik Kumar Advani\n",
      "\n",
      "Q: How do I copy files from a different folder into docker container’s working directory?\n",
      "A: You can copy files from your local machine into a Docker container using the docker cp command. Here's how to do it:\n",
      "In the Dockerfile, you can provide the folder containing the files that you want to copy over. The basic syntax is as follows:\n",
      "COPY [\"src/predict.py\", \"models/xgb_model.bin\", \"./\"]\t\t\t\t\t\t\t\t\t\t\tGopakumar Gopinathan\n",
      "\n",
      "\u001b[1m\u001b[92mOLLAMA +++++++++++++++++++++++++++++++++++++++++++++++++++++++++++++++++++++++++++++++++++++++++++++++++++++++++++++++++++++++++++++\u001b[0m\n",
      "To copy files from a different folder into docker container's working directory, you can provide the folder containing the files that you want to copy over in your Dockerfile. The basic syntax is as follows:\n",
      "\n",
      "```\n",
      "COPY [\"src/predict.py\", \"models/xgb_model.bin\", \"./\"]\n",
      "```\n",
      "\n",
      "This will copy the specified files (`predict.py` and `xgb_model.bin`) from the source directory (`\"src\"` and `\"models\"`) into the working directory of the Docker container.\n"
     ]
    }
   ],
   "source": [
    "import ollama\n",
    "\n",
    "response = ollama.chat(\n",
    "    model='llama3',\n",
    "    messages=[{\"role\": \"user\", \"content\": prompt_template}]\n",
    ")\n",
    "\n",
    "print(\"\\033[1m\\033[92m\"+\"PROMPT \"+\"+\"*125+\"\\033[0m\")\n",
    "print(prompt_template)\n",
    "print(\"\\n\\033[1m\\033[92m\"+\"OLLAMA \"+\"+\"*125+\"\\033[0m\")\n",
    "print(response['message']['content'])"
   ]
  },
  {
   "cell_type": "markdown",
   "id": "5814466a",
   "metadata": {},
   "source": [
    "## Bonus: calculating the costs (ungraded)\n",
    "\n",
    "Suppose that on average per request we send 150 tokens and receive back 250 tokens.\n",
    "\n",
    "How much will it cost to run 1000 requests?\n",
    "\n",
    "You can see the prices [here](https://openai.com/api/pricing/)\n",
    "\n",
    "On June 17, the prices for gpt4o are:\n",
    "\n",
    "* Input: $0.005 / 1K tokens\n",
    "* Output: $0.015 / 1K tokens\n",
    "\n",
    "You can redo the calculations with the values you got in Q6 and Q7."
   ]
  },
  {
   "cell_type": "code",
   "execution_count": 24,
   "id": "b09437e9",
   "metadata": {},
   "outputs": [
    {
     "name": "stdout",
     "output_type": "stream",
     "text": [
      "Total price at June 17, 2024: $3.12\n",
      "Total price at June 13, 2025: $3.61\n"
     ]
    }
   ],
   "source": [
    "tokens_prompt = encoding.encode(prompt_template)\n",
    "input_tokens = len(tokens_prompt)\n",
    "\n",
    "answer = response['message']['content']\n",
    "tokens_answer = encoding.encode(answer)\n",
    "output_tokens = len(tokens_answer)\n",
    "\n",
    "input_price = (0.005/1e3)*(1e3*input_tokens)\n",
    "output_price = (0.015/1e3)*(1e3*output_tokens)\n",
    "\n",
    "print(f\"Total price at June 17, 2024: ${round(input_price + output_price, 2)}\")\n",
    "\n",
    "input_price = (5/1e6)*(1e3*input_tokens)\n",
    "output_price = (20/1e6)*(1e3*output_tokens)\n",
    "\n",
    "print(f\"Total price at June 13, 2025: ${round(input_price + output_price, 2)}\")"
   ]
  }
 ],
 "metadata": {
  "kernelspec": {
   "display_name": "llmenvs",
   "language": "python",
   "name": "python3"
  },
  "language_info": {
   "codemirror_mode": {
    "name": "ipython",
    "version": 3
   },
   "file_extension": ".py",
   "mimetype": "text/x-python",
   "name": "python",
   "nbconvert_exporter": "python",
   "pygments_lexer": "ipython3",
   "version": "3.10.9"
  }
 },
 "nbformat": 4,
 "nbformat_minor": 5
}
